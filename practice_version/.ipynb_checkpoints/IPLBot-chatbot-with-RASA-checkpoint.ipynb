{
 "cells": [
  {
   "cell_type": "markdown",
   "metadata": {},
   "source": [
    "# IPLBot-RASA"
   ]
  },
  {
   "cell_type": "markdown",
   "metadata": {},
   "source": [
    "# Como construir e fazer deploy de um Chatbot utilizando Rasa (utilizando estudo de caso IPL)"
   ]
  },
  {
   "cell_type": "markdown",
   "metadata": {},
   "source": [
    "Entendendo um pouco da estrutura do nosso chatbot"
   ]
  },
  {
   "attachments": {},
   "cell_type": "markdown",
   "metadata": {},
   "source": [
    "![image1.png](../images/image1.png)"
   ]
  },
  {
   "cell_type": "markdown",
   "metadata": {},
   "source": [
    "Vamos detalhar essa arquitetura (continue consultando a imagem para entender isso):\n",
    "\n",
    "    * Assim que Rasa recebe uma mensagem do usuário final, ele tenta prever ou extrair a \"intenção\" e as \"entidades\" presentes na mensagem. Esta parte é tratada por Rasa NLU\n",
    "    * Depois que a intenção do usuário é identificada, o Rasa Stack executa uma ação chamada action_match_news para obter as atualizações da última correspondência de IPL\n",
    "    * Rasa então tenta prever o que deve fazer a seguir. Esta decisão é tomada considerando vários fatores e é tratada pelo Rasa Core\n",
    "    * No nosso exemplo, Rasa está mostrando o resultado da correspondência mais recente para o usuário. Também previu a próxima ação que nosso modelo deve executar - para verificar com o usuário se o chatbot conseguiu resolver sua consulta"
   ]
  },
  {
   "cell_type": "markdown",
   "metadata": {},
   "source": [
    "# Configurando o IPL Chatbot"
   ]
  },
  {
   "cell_type": "markdown",
   "metadata": {},
   "source": [
    "Practice Version – use esta versão ao ler este artigo. Isso ajudará você a entender como o código funciona"
   ]
  },
  {
   "cell_type": "markdown",
   "metadata": {},
   "source": [
    "Então, vá em frente e clone o projeto 'Practice Version' do GitHub:"
   ]
  },
  {
   "cell_type": "markdown",
   "metadata": {},
   "source": [
    "```\n",
    "git clone https://github.com/ClaudioLSilva/IPLBot-chatbot-with-RASA.git && cd IPLBot-chatbot-with-RASA\n",
    "```"
   ]
  },
  {
   "cell_type": "markdown",
   "metadata": {},
   "source": [
    "E entre (cd) na practice_version:"
   ]
  },
  {
   "cell_type": "markdown",
   "metadata": {},
   "source": [
    "```\n",
    "cd practice_version\n",
    "```"
   ]
  },
  {
   "cell_type": "markdown",
   "metadata": {},
   "source": [
    "Uma observação rápida sobre algumas coisas que você deve estar ciente antes de prosseguir:"
   ]
  },
  {
   "cell_type": "markdown",
   "metadata": {},
   "source": [
    "- Atualmente, o Rasa suporta apenas a versão Python <= 3.6. Se você possui uma versão superior do Python, pode configurar um novo ambiente no conda usando o seguinte comando:"
   ]
  },
  {
   "cell_type": "markdown",
   "metadata": {},
   "source": [
    "```\n",
    "conda create -n rasa python=3.6\n",
    "conda activate rasa\n",
    "```"
   ]
  },
  {
   "cell_type": "markdown",
   "metadata": {},
   "source": [
    "- Você precisará de um editor de texto para trabalhar com os vários arquivos do nosso projeto. O meu favorito é o Sublime Text, que você pode baixar [aqui](https://www.sublimetext.com/)"
   ]
  },
  {
   "cell_type": "markdown",
   "metadata": {},
   "source": [
    "# Instalando o Rasa e suas dependências"
   ]
  },
  {
   "cell_type": "markdown",
   "metadata": {},
   "source": [
    "Você pode usar o código abaixo para instalar todas as dependências do Rasa Stack:"
   ]
  },
  {
   "cell_type": "markdown",
   "metadata": {},
   "source": [
    "```\n",
    "pip install -r requirements.txt\n",
    "```"
   ]
  },
  {
   "cell_type": "markdown",
   "metadata": {},
   "source": [
    "Esta etapa pode levar alguns minutos, pois existem alguns arquivos para instalar. Você também precisará instalar um modelo de idioma spaCy em inglês:"
   ]
  },
  {
   "cell_type": "markdown",
   "metadata": {},
   "source": [
    "```\n",
    "python -m spacy download en\n",
    "```"
   ]
  },
  {
   "cell_type": "markdown",
   "metadata": {},
   "source": [
    "Mãos à obra!"
   ]
  },
  {
   "cell_type": "markdown",
   "metadata": {},
   "source": [
    "# Extraindo a intenção do usuário de uma mensagem"
   ]
  },
  {
   "cell_type": "markdown",
   "metadata": {},
   "source": [
    "A primeira coisa que queremos fazer é descobrir a intenção do usuário. O que ele ou ela deseja realizar? Vamos utilizar o Rasa e criar um modelo de NLU para identificar a intenção do usuário e suas entidades relacionadas.\n",
    "\n",
    "Examine a pasta practice_version que você baixou anteriormente:"
   ]
  },
  {
   "attachments": {},
   "cell_type": "markdown",
   "metadata": {},
   "source": [
    "![image2.png](../images/image2.png)"
   ]
  },
  {
   "cell_type": "markdown",
   "metadata": {},
   "source": [
    "Os dois arquivos que usaremos estão destacados acima."
   ]
  },
  {
   "cell_type": "markdown",
   "metadata": {},
   "source": [
    "**data/nlu_data.md** - Esse é o arquivo no qual você salvará seus dados de treinamento para extrair a intenção do usuário. Já existem alguns dados no arquivo:"
   ]
  },
  {
   "attachments": {},
   "cell_type": "markdown",
   "metadata": {},
   "source": [
    "![image3.png](../images/image3.png)"
   ]
  },
  {
   "cell_type": "markdown",
   "metadata": {},
   "source": [
    "Como você pode ver, o formato dos dados de treinamento para 'intenção' é bastante simples em Rasa. Você só tem de:\n",
    "\n",
    "* Começar a linha com \"## intent: intent_name\"\n",
    "* Fornecer todos os exemplos nas seguintes linhas\n",
    "\n",
    "Vamos escrever alguns exemplos de intenções em Python para o cenário em que o usuário deseja obter atualizações de IPL:"
   ]
  },
  {
   "cell_type": "markdown",
   "metadata": {},
   "source": [
    "```\n",
    "## intent:current_matches\n",
    "- which cricket match is happening right now \n",
    "- which ipl match is next \n",
    "- which teams are playing next in ipl \n",
    "- tell me some ipl news \n",
    "- i want ipl updates \n",
    "- what are the latest match updates \n",
    "- who won the last ipl match \n",
    "- how is ipl going \n",
    "- what was the result of the last match \n",
    "- when is the next match\n",
    "```"
   ]
  },
  {
   "cell_type": "markdown",
   "metadata": {},
   "source": [
    "Você pode incluir quantos exemplos desejar para cada intenção. De fato, certifique-se de incluir gírias e formas curtas que você usa ao enviar mensagens de texto. A idéia é fazer o chatbot entender a maneira como digitamos o texto. Sinta-se à vontade para consultar a versão completa, em que dei muitos exemplos para cada tipo de intenção.\n",
    "\n",
    "* **nlu_config.yml** - Este arquivo permite criar um pipeline de processamento de texto em Rasa. Felizmente para nós, o Rasa vem com duas configurações padrão com base na quantidade de dados de treinamento que temos:\n",
    " * Pipeline \"spacy_sklearn\" se você tiver menos de 1000 exemplos de treinamento\n",
    " * \"Tensorflow_embedding\" se você tiver uma grande quantidade de dados\n",
    "\n",
    "Vamos escolher o primeiro como ele se encaixa no nosso exemplo:"
   ]
  },
  {
   "attachments": {},
   "cell_type": "markdown",
   "metadata": {},
   "source": [
    "![image4.png](../images/image4.png)"
   ]
  },
  {
   "cell_type": "markdown",
   "metadata": {},
   "source": [
    "Porém, para ampliarmos o uso e a capacidade mais ampliada de interpretação, usaremos a seguinte, configuração:\n",
    "\n",
    "nlu_config.yml\n",
    "--------------\n",
    "```\n",
    "language: \"en\"\n",
    "\n",
    "# pipeline: \"spacy_sklearn\"  <comentamos esta linha, pois abaixo as mesmas configurações estão embutidas>\n",
    "pipeline:\n",
    "  - name: \"nlp_spacy\"\n",
    "  - name: \"tokenizer_spacy\"\n",
    "  - name: \"intent_featurizer_spacy\"\n",
    "  - name: \"intent_classifier_sklearn\"\n",
    "  - name: \"ner_crf\"\n",
    "  - name: \"ner_synonyms\"\n",
    "```"
   ]
  },
  {
   "cell_type": "markdown",
   "metadata": {},
   "source": [
    "# Treinando o classificador NLU\n",
    "\n",
    "Se você chegou até aqui, já fez a maior parte do trabalho para o modelo de extração de intenção. Vamos treiná-lo e vê-lo em ação!\n",
    "\n",
    "Você pode treinar o classificador simplesmente seguindo o comando abaixo:\n",
    "\n",
    "```\n",
    "make train-nlu\n",
    "```\n",
    "Usando o Windows? Você pode executar o seguinte código python:\n",
    "\n",
    "```\n",
    "python -m rasa_nlu.train -c nlu_config.yml --data data/nlu_data.md -o models --fixed_model_name nlu --project current --verbose\n",
    "```"
   ]
  },
  {
   "cell_type": "markdown",
   "metadata": {},
   "source": [
    "# Prever a intenção\n",
    "\n",
    "Vamos testar o desempenho do nosso modelo, fornecendo um texto de exemplo no qual ele não foi treinado para extrair intenções. Você pode abrir um shell iPython / Python e siga as seguintes etapas:\n",
    "```\n",
    ">>> from rasa_nlu.model import Interpreter\n",
    ">>> nlu_model = Interpreter.load('./models/current/nlu')\n",
    ">>> nlu_model.parse('what is happening in the cricket world these days?')\n",
    "```"
   ]
  },
  {
   "cell_type": "markdown",
   "metadata": {},
   "source": [
    "Aqui está a aparência da saída:\n",
    "```    \n",
    "{\n",
    "\t'intent': {\n",
    "\t'name': 'current_matches',\n",
    "\t'confidence': 0.6657130383645372\n",
    "\t},\n",
    "\t'entities': [],\n",
    "\t'intent_ranking': [{\n",
    "\t'name': 'current_matches',\n",
    "\t'confidence': 0.6657130383645372\n",
    "\t}, {\n",
    "\t'name': 'goodbye',\n",
    "\t'confidence': 0.11589267701634796\n",
    "\t}, {\n",
    "\t'name': 'affirm',\n",
    "\t'confidence': 0.06372593552204527\n",
    "\t}, {\n",
    "\t'name': 'thanks',\n",
    "\t'confidence': 0.0623182164883462\n",
    "\t}, {\n",
    "\t'name': 'deny',\n",
    "\t'confidence': 0.05938353524001583\n",
    "\t}, {\n",
    "\t'name': 'greet',\n",
    "\t'confidence': 0.03296659736870796\n",
    "\t}],\n",
    "\t'text': 'what is happening in the cricket world these days?'\n",
    "\t}\n",
    "```"
   ]
  },
  {
   "cell_type": "markdown",
   "metadata": {},
   "source": [
    "O nosso modelo NLU não apenas tem um bom desempenho na extração de intenções, mas também classifica as outras intenções com base em seus índices de confiança. Este é um pequeno recurso bacana que pode ser realmente útil quando o classificador é confundido entre várias intenções."
   ]
  },
  {
   "cell_type": "markdown",
   "metadata": {},
   "source": [
    "# Fazendo conversas interativas\n",
    "\n",
    "Um dos aspectos mais importantes de um aplicativo de chatbot é a capacidade de ser interativo. Lembre-se de um chatbot que você já usou antes. Nosso interesse naturalmente desperta se o chatbot é capaz de manter uma conversa, certo?\n",
    "\n",
    "Espera-se que o chatbot extraia todas as informações necessárias para executar uma tarefa específica usando as conversas de vaivém com o usuário final."
   ]
  },
  {
   "cell_type": "markdown",
   "metadata": {},
   "source": [
    "# Projetando o fluxo conversacional\n",
    "\n",
    "Reserve um momento para pensar na conversa mais simples que nosso chatbot pode ter com um usuário. Qual seria o fluxo dessa conversa? Vamos escrever na forma de uma história!"
   ]
  },
  {
   "cell_type": "markdown",
   "metadata": {},
   "source": [
    "```\n",
    "Me: Hi\n",
    "\n",
    "Iplbot: Hey! How may I help you?\n",
    "\n",
    "Me: What was the result of the last match?\n",
    "\n",
    "Iplbot: Here are some IPL quick info:\n",
    "1.The match between Rajasthan Royals and Delhi Capitals was recently held and Delhi Capitals won.\n",
    "2.The next match is Warriors vs Titans on 22 April 2019\n",
    "\n",
    "Iplbot: Did that help you?\n",
    "\n",
    "Me: yes, thank you!\n",
    "\n",
    "Iplbot: Glad that I could help! :)\n",
    "```"
   ]
  },
  {
   "cell_type": "markdown",
   "metadata": {},
   "source": [
    "Vamos ver como podemos ensinar uma conversa simples como essa para Rasa:"
   ]
  },
  {
   "cell_type": "markdown",
   "metadata": {},
   "source": [
    "```\n",
    "## news path 1\n",
    "* greet\n",
    "  - utter_greet\n",
    "* current_matches\n",
    "  - action_match_news\n",
    "  - utter_did_that_help\n",
    "* affirm or thanks\n",
    "  - utter_gratitude\n",
    "* goodbye\n",
    "  - utter_goodbye\n",
    "```"
   ]
  },
  {
   "cell_type": "markdown",
   "metadata": {},
   "source": [
    "O formato geral é:"
   ]
  },
  {
   "cell_type": "markdown",
   "metadata": {},
   "source": [
    "```\n",
    "## news path 1           <--- nome da história para fins de depuração\n",
    "* greet                  <--- intenção detectada do usuário\n",
    "  - utter_greet          <--- que ação o bot deve executar\n",
    "* current_matches        <--- a seguinte intenção na conversa\n",
    "```"
   ]
  },
  {
   "cell_type": "markdown",
   "metadata": {},
   "source": [
    "Isso é chamado de **caminho da história do usuário**. Forneci algumas histórias no arquivo **data/stories.md** para sua referência. Esses são os **dados de treinamento do Rasa Core**.\n",
    "\n",
    "O modo como funciona é:\n",
    "\n",
    " * Dê alguns exemplos de caminhos de história de amostra que o usuário deve seguir\n",
    " * O Rasa Core os combina aleatoriamente para criar caminhos de usuário mais complexos\n",
    " * Em seguida, constrói um modelo probabilístico a partir disso. Este modelo é usado para prever a próxima ação que Rasa deve executar\n",
    "\n",
    "Confira o arquivo **data/stories.md** na versão completa do projeto para mais exemplos. Enquanto isso, aqui está uma boa visualização dos caminhos básicos da história gerados por Rasa para o nosso chatbot IPL:"
   ]
  },
  {
   "attachments": {},
   "cell_type": "markdown",
   "metadata": {},
   "source": [
    "![image5.png](../images/image5.png)"
   ]
  },
  {
   "cell_type": "markdown",
   "metadata": {},
   "source": [
    "A ilustração acima pode parecer complicada, mas está simplesmente listando várias histórias possíveis de usuários que eu ensinei a Rasa. Aqui estão algumas coisas a serem observadas no gráfico acima:\n",
    "\n",
    "* Exceto pelas caixas INICIAR e FIM, todas as caixas coloridas indicam a intenção do usuário\n",
    "* Todas as caixas brancas são ações que o chatbot executa\n",
    "* As setas indicam o fluxo da conversa\n",
    "* **action_match_news** é onde atingimos o CricAPI para obter informações do IPL\n",
    "\n",
    "Escreva o seguinte no seu arquivo stories.md:"
   ]
  },
  {
   "cell_type": "markdown",
   "metadata": {},
   "source": [
    "```\n",
    "## news path 1\n",
    "* greet\n",
    "  - utter_greet\n",
    "* current_matches\n",
    "  - action_match_news\n",
    "  - utter_did_that_help\n",
    "* affirm or thanks\n",
    "  - utter_gratitude\n",
    "* goodbye\n",
    "  - utter_goodbye\n",
    "\n",
    "## news path 2\n",
    "* current_matches\n",
    "  - action_match_news\n",
    "  - utter_did_that_help\n",
    "* affirm or thanks\n",
    "  - utter_gratitude\n",
    "* goodbye\n",
    "  - utter_goodbye\n",
    "\n",
    "## news path 3\n",
    "* greet\n",
    "  - utter_greet\n",
    "* current_matches\n",
    "  - action_match_news\n",
    "  - utter_did_that_help\n",
    "* deny\n",
    "  - utter_ask_again\n",
    "* current_matches\n",
    "  - action_match_news\n",
    "  - utter_did_that_help\n",
    "* affirm or thanks\n",
    "  - utter_gratitude\n",
    "* goodbye\n",
    "  - utter_goodbye\n",
    "\n",
    "## greet path\n",
    "* greet\n",
    "  - utter_greet\n",
    "\n",
    "## goodbye path\n",
    "* goodbye\n",
    "  - utter_goodbye\n",
    "```"
   ]
  },
  {
   "cell_type": "markdown",
   "metadata": {},
   "source": [
    "Agora, gere um gráfico semelhante para suas histórias usando o seguinte comando:"
   ]
  },
  {
   "cell_type": "markdown",
   "metadata": {},
   "source": [
    "```\n",
    "python -m rasa_core.visualize -d domain.yml -s data/stories.md -o graph.html\n",
    "```"
   ]
  },
  {
   "cell_type": "markdown",
   "metadata": {},
   "source": [
    "Porém, para facilitar, embuti no makefile este comando. Então você pode executá-lo mais facilmente assim:\n",
    "```\n",
    "make graph\n",
    "```"
   ]
  },
  {
   "cell_type": "markdown",
   "metadata": {},
   "source": [
    "**Isso é muito útil ao depurar** o fluxo conversacional do chatbot."
   ]
  },
  {
   "cell_type": "markdown",
   "metadata": {},
   "source": [
    "# Definindo o domínio\n",
    "\n",
    "Agora, abra o arquivo **domain.yml**. Você estará familiarizado com a maioria dos recursos mencionados aqui:"
   ]
  },
  {
   "attachments": {},
   "cell_type": "markdown",
   "metadata": {},
   "source": [
    "![image6.png](../images/image6.png)"
   ]
  },
  {
   "cell_type": "markdown",
   "metadata": {},
   "source": [
    "O domínio é o **mundo do seu chatbot**. Ele contém tudo o que o chatbot deve saber, incluindo:\n",
    "\n",
    "* Todas as ações que é capaz de realizar\n",
    "* As intenções que ele deve entender\n",
    "* O modelo de todas as declarações que ele deve informar ao usuário e muito mais"
   ]
  },
  {
   "cell_type": "markdown",
   "metadata": {},
   "source": [
    "# Definindo diretivas (Policies)\n",
    "\n",
    "O Rasa Core gera os dados de treinamento para a parte conversacional usando as histórias que fornecemos. Também permite definir um conjunto de políticas a serem usadas ao decidir a próxima ação do chatbot. Essas políticas são definidas no arquivo **policies.yml**.\n",
    "\n",
    "Então, abra esse arquivo e copie o seguinte código:"
   ]
  },
  {
   "cell_type": "markdown",
   "metadata": {},
   "source": [
    "```\n",
    "policies:\n",
    "  - name: KerasPolicy\n",
    "    epochs: 100\n",
    "    max_history: 5\n",
    "  - name: FallbackPolicy\n",
    "    fallback_action_name: 'action_default_fallback'\n",
    "  - name: MemoizationPolicy\n",
    "    max_history: 5\n",
    "```"
   ]
  },
  {
   "cell_type": "markdown",
   "metadata": {},
   "source": [
    "Aqui estão algumas coisas a serem observadas sobre as políticas acima (extraídas das políticas do Rasa Core aqui):\n",
    "\n",
    "* **O KerasPolicy** usa uma rede neural implementada no Keras para selecionar a próxima ação. A arquitetura padrão é baseada em um modelo LSTM (Long Short Term Term Memory)\n",
    "* **MemoizationPolicy** memoriza as conversas nos seus dados de treinamento. Ele prevê a próxima ação com confiança 1.0, se essa conversa exata existir nos dados de treinamento, caso contrário, ela prevê 'Nenhuma' com confiança 0.0\n",
    "* **FallbackPolicy** chama uma ação de fallback se o reconhecimento de intenção tiver confiança abaixo de nlu_threshold ou se nenhuma das políticas de diálogo prever uma ação com confiança maior que core_threshold\n",
    "* Um hiperparâmetro importante para as políticas do Rasa Core é o **max_history**. Isso controla quanto histórico de diálogo o modelo examina para decidir qual ação tomar em seguida"
   ]
  },
  {
   "cell_type": "markdown",
   "metadata": {},
   "source": [
    ">>>> Continua... **Prosseguirei a confecção do manual de instalação**"
   ]
  },
  {
   "cell_type": "code",
   "execution_count": null,
   "metadata": {},
   "outputs": [],
   "source": []
  }
 ],
 "metadata": {
  "kernelspec": {
   "display_name": "Python 3",
   "language": "python",
   "name": "python3"
  },
  "language_info": {
   "codemirror_mode": {
    "name": "ipython",
    "version": 3
   },
   "file_extension": ".py",
   "mimetype": "text/x-python",
   "name": "python",
   "nbconvert_exporter": "python",
   "pygments_lexer": "ipython3",
   "version": "3.6.9"
  }
 },
 "nbformat": 4,
 "nbformat_minor": 2
}
