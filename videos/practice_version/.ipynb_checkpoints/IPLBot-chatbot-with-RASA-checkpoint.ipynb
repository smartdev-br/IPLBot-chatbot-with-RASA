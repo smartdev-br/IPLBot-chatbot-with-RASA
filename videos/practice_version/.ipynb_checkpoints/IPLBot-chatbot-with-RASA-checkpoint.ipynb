{
 "cells": [
  {
   "cell_type": "markdown",
   "metadata": {},
   "source": [
    "# IPLBot-RASA"
   ]
  },
  {
   "cell_type": "markdown",
   "metadata": {},
   "source": [
    "# Como construir e fazer deploy de um Chatbot utilizando Rasa (utilizando estudo de caso IPL)"
   ]
  },
  {
   "cell_type": "markdown",
   "metadata": {},
   "source": [
    "Entendendo um pouco da estrutura do nosso chatbot"
   ]
  },
  {
   "cell_type": "markdown",
   "metadata": {},
   "source": [
    "![image1.png](../images/image1.png)"
   ]
  },
  {
   "cell_type": "markdown",
   "metadata": {},
   "source": [
    "Vamos detalhar essa arquitetura (continue consultando a imagem para entender isso):\n",
    "\n",
    "    * Assim que Rasa recebe uma mensagem do usuário final, ele tenta prever ou extrair a \"intenção\" e as \"entidades\" presentes na mensagem. Esta parte é tratada por Rasa NLU\n",
    "    * Depois que a intenção do usuário é identificada, o Rasa Stack executa uma ação chamada action_match_news para obter as atualizações da última correspondência de IPL\n",
    "    * Rasa então tenta prever o que deve fazer a seguir. Esta decisão é tomada considerando vários fatores e é tratada pelo Rasa Core\n",
    "    * No nosso exemplo, Rasa está mostrando o resultado da correspondência mais recente para o usuário. Também previu a próxima ação que nosso modelo deve executar - para verificar com o usuário se o chatbot conseguiu resolver sua consulta"
   ]
  },
  {
   "cell_type": "markdown",
   "metadata": {},
   "source": [
    "# Configurando o IPL Chatbot"
   ]
  },
  {
   "cell_type": "markdown",
   "metadata": {},
   "source": [
    "Practice Version – use esta versão ao ler este artigo. Isso ajudará você a entender como o código funciona"
   ]
  },
  {
   "cell_type": "markdown",
   "metadata": {},
   "source": [
    "Então, vá em frente e clone o projeto 'Practice Version' do GitHub:"
   ]
  },
  {
   "cell_type": "markdown",
   "metadata": {},
   "source": [
    "```\n",
    "git clone https://github.com/ClaudioLSilva/IPLBot-chatbot-with-RASA.git && cd IPLBot-chatbot-with-RASA\n",
    "```"
   ]
  },
  {
   "cell_type": "markdown",
   "metadata": {},
   "source": [
    "E entre (cd) na practice_version:"
   ]
  },
  {
   "cell_type": "markdown",
   "metadata": {},
   "source": [
    "```\n",
    "cd practice_version\n",
    "```"
   ]
  },
  {
   "cell_type": "markdown",
   "metadata": {},
   "source": [
    "Uma observação rápida sobre algumas coisas que você deve estar ciente antes de prosseguir:"
   ]
  },
  {
   "cell_type": "markdown",
   "metadata": {},
   "source": [
    "- Atualmente, o Rasa suporta apenas a versão Python <= 3.6. Se você possui uma versão superior do Python, pode configurar um novo ambiente no conda usando o seguinte comando:"
   ]
  },
  {
   "cell_type": "markdown",
   "metadata": {},
   "source": [
    "```\n",
    "conda create -n rasa python=3.6\n",
    "conda activate rasa\n",
    "```"
   ]
  },
  {
   "cell_type": "markdown",
   "metadata": {},
   "source": [
    "- Você precisará de um editor de texto para trabalhar com os vários arquivos do nosso projeto. O meu favorito é o Sublime Text, que você pode baixar [aqui](https://www.sublimetext.com/)"
   ]
  },
  {
   "cell_type": "markdown",
   "metadata": {},
   "source": [
    "# Instalando o Rasa e suas dependências"
   ]
  },
  {
   "cell_type": "markdown",
   "metadata": {},
   "source": [
    "Você pode usar o código abaixo para instalar todas as dependências do Rasa Stack:"
   ]
  },
  {
   "cell_type": "markdown",
   "metadata": {},
   "source": [
    "```\n",
    "pip install -r requirements.txt\n",
    "```"
   ]
  },
  {
   "cell_type": "markdown",
   "metadata": {},
   "source": [
    "Esta etapa pode levar alguns minutos, pois existem alguns arquivos para instalar. Você também precisará instalar um modelo de idioma spaCy em inglês:"
   ]
  },
  {
   "cell_type": "markdown",
   "metadata": {},
   "source": [
    "```\n",
    "python -m spacy download en\n",
    "```"
   ]
  },
  {
   "cell_type": "markdown",
   "metadata": {},
   "source": [
    "Mãos à obra!"
   ]
  },
  {
   "cell_type": "markdown",
   "metadata": {},
   "source": [
    "# Extraindo a intenção do usuário de uma mensagem"
   ]
  },
  {
   "cell_type": "markdown",
   "metadata": {},
   "source": [
    "A primeira coisa que queremos fazer é descobrir a intenção do usuário. O que ele ou ela deseja realizar? Vamos utilizar o Rasa e criar um modelo de NLU para identificar a intenção do usuário e suas entidades relacionadas.\n",
    "\n",
    "Examine a pasta practice_version que você baixou anteriormente:"
   ]
  },
  {
   "cell_type": "markdown",
   "metadata": {},
   "source": [
    "![image2.png](../images/image2.png)"
   ]
  },
  {
   "cell_type": "markdown",
   "metadata": {},
   "source": [
    "Os dois arquivos que usaremos estão destacados acima."
   ]
  },
  {
   "cell_type": "markdown",
   "metadata": {},
   "source": [
    "**data/nlu_data.md** - Esse é o arquivo no qual você salvará seus dados de treinamento para extrair a intenção do usuário. Já existem alguns dados no arquivo:"
   ]
  },
  {
   "cell_type": "markdown",
   "metadata": {},
   "source": [
    "![image3.png](../images/image3.png)"
   ]
  },
  {
   "cell_type": "markdown",
   "metadata": {},
   "source": [
    "Como você pode ver, o formato dos dados de treinamento para 'intenção' é bastante simples em Rasa. Você só tem de:\n",
    "\n",
    "* Começar a linha com \"## intent: intent_name\"\n",
    "* Fornecer todos os exemplos nas seguintes linhas\n",
    "\n",
    "Vamos escrever alguns exemplos de intenções em Python para o cenário em que o usuário deseja obter atualizações de IPL:"
   ]
  },
  {
   "cell_type": "markdown",
   "metadata": {},
   "source": [
    "```\n",
    "## intent:current_matches\n",
    "- which cricket match is happening right now \n",
    "- which ipl match is next \n",
    "- which teams are playing next in ipl \n",
    "- tell me some ipl news \n",
    "- i want ipl updates \n",
    "- what are the latest match updates \n",
    "- who won the last ipl match \n",
    "- how is ipl going \n",
    "- what was the result of the last match \n",
    "- when is the next match\n",
    "```"
   ]
  },
  {
   "cell_type": "markdown",
   "metadata": {},
   "source": [
    "Você pode incluir quantos exemplos desejar para cada intenção. De fato, certifique-se de incluir gírias e formas curtas que você usa ao enviar mensagens de texto. A idéia é fazer o chatbot entender a maneira como digitamos o texto. Sinta-se à vontade para consultar a versão completa, em que dei muitos exemplos para cada tipo de intenção.\n",
    "\n",
    "* **nlu_config.yml** - Este arquivo permite criar um pipeline de processamento de texto em Rasa. Felizmente para nós, o Rasa vem com duas configurações padrão com base na quantidade de dados de treinamento que temos:\n",
    " * Pipeline \"spacy_sklearn\" se você tiver menos de 1000 exemplos de treinamento\n",
    " * \"Tensorflow_embedding\" se você tiver uma grande quantidade de dados\n",
    "\n",
    "Vamos escolher o primeiro como ele se encaixa no nosso exemplo:"
   ]
  },
  {
   "cell_type": "markdown",
   "metadata": {},
   "source": [
    "![image4.png](../images/image4.png)"
   ]
  },
  {
   "cell_type": "markdown",
   "metadata": {},
   "source": [
    "Porém, para ampliarmos o uso e a capacidade mais ampliada de interpretação, usaremos a seguinte, configuração:\n",
    "\n",
    "nlu_config.yml\n",
    "--------------\n",
    "```\n",
    "language: \"en\"\n",
    "\n",
    "# pipeline: \"spacy_sklearn\"  <comentamos esta linha, pois abaixo as mesmas configurações estão embutidas>\n",
    "pipeline:\n",
    "  - name: \"nlp_spacy\"\n",
    "  - name: \"tokenizer_spacy\"\n",
    "  - name: \"intent_featurizer_spacy\"\n",
    "  - name: \"intent_classifier_sklearn\"\n",
    "  - name: \"ner_crf\"\n",
    "  - name: \"ner_synonyms\"\n",
    "```"
   ]
  },
  {
   "cell_type": "markdown",
   "metadata": {},
   "source": [
    "# Treinando o classificador NLU\n",
    "\n",
    "Se você chegou até aqui, já fez a maior parte do trabalho para o modelo de extração de intenção. Vamos treiná-lo e vê-lo em ação!\n",
    "\n",
    "Você pode treinar o classificador simplesmente seguindo o comando abaixo:\n",
    "\n",
    "```\n",
    "make train-nlu\n",
    "```\n",
    "Usando o Windows? Você pode executar o seguinte código python:\n",
    "\n",
    "```\n",
    "python -m rasa_nlu.train -c nlu_config.yml --data data/nlu_data.md -o models --fixed_model_name nlu --project current --verbose\n",
    "```"
   ]
  },
  {
   "cell_type": "markdown",
   "metadata": {},
   "source": [
    "# Prever a intenção\n",
    "\n",
    "Vamos testar o desempenho do nosso modelo, fornecendo um texto de exemplo no qual ele não foi treinado para extrair intenções. Você pode abrir um shell iPython / Python e siga as seguintes etapas:\n",
    "```\n",
    ">>> from rasa_nlu.model import Interpreter\n",
    ">>> nlu_model = Interpreter.load('./models/current/nlu')\n",
    ">>> nlu_model.parse('what is happening in the cricket world these days?')\n",
    "```"
   ]
  },
  {
   "cell_type": "markdown",
   "metadata": {},
   "source": [
    "Aqui está a aparência da saída:\n",
    "```    \n",
    "{\n",
    "\t'intent': {\n",
    "\t'name': 'current_matches',\n",
    "\t'confidence': 0.6657130383645372\n",
    "\t},\n",
    "\t'entities': [],\n",
    "\t'intent_ranking': [{\n",
    "\t'name': 'current_matches',\n",
    "\t'confidence': 0.6657130383645372\n",
    "\t}, {\n",
    "\t'name': 'goodbye',\n",
    "\t'confidence': 0.11589267701634796\n",
    "\t}, {\n",
    "\t'name': 'affirm',\n",
    "\t'confidence': 0.06372593552204527\n",
    "\t}, {\n",
    "\t'name': 'thanks',\n",
    "\t'confidence': 0.0623182164883462\n",
    "\t}, {\n",
    "\t'name': 'deny',\n",
    "\t'confidence': 0.05938353524001583\n",
    "\t}, {\n",
    "\t'name': 'greet',\n",
    "\t'confidence': 0.03296659736870796\n",
    "\t}],\n",
    "\t'text': 'what is happening in the cricket world these days?'\n",
    "\t}\n",
    "```"
   ]
  },
  {
   "cell_type": "markdown",
   "metadata": {},
   "source": [
    "O nosso modelo NLU não apenas tem um bom desempenho na extração de intenções, mas também classifica as outras intenções com base em seus índices de confiança. Este é um pequeno recurso bacana que pode ser realmente útil quando o classificador é confundido entre várias intenções."
   ]
  },
  {
   "cell_type": "markdown",
   "metadata": {},
   "source": [
    "# Fazendo conversas interativas\n",
    "\n",
    "Um dos aspectos mais importantes de um aplicativo de chatbot é a capacidade de ser interativo. Lembre-se de um chatbot que você já usou antes. Nosso interesse naturalmente desperta se o chatbot é capaz de manter uma conversa, certo?\n",
    "\n",
    "Espera-se que o chatbot extraia todas as informações necessárias para executar uma tarefa específica usando as conversas de vaivém com o usuário final."
   ]
  },
  {
   "cell_type": "markdown",
   "metadata": {},
   "source": [
    "# Projetando o fluxo conversacional\n",
    "\n",
    "Reserve um momento para pensar na conversa mais simples que nosso chatbot pode ter com um usuário. Qual seria o fluxo dessa conversa? Vamos escrever na forma de uma história!"
   ]
  },
  {
   "cell_type": "markdown",
   "metadata": {},
   "source": [
    "```\n",
    "Me: Hi\n",
    "\n",
    "Iplbot: Hey! How may I help you?\n",
    "\n",
    "Me: What was the result of the last match?\n",
    "\n",
    "Iplbot: Here are some IPL quick info:\n",
    "1.The match between Rajasthan Royals and Delhi Capitals was recently held and Delhi Capitals won.\n",
    "2.The next match is Warriors vs Titans on 22 April 2019\n",
    "\n",
    "Iplbot: Did that help you?\n",
    "\n",
    "Me: yes, thank you!\n",
    "\n",
    "Iplbot: Glad that I could help! :)\n",
    "```"
   ]
  },
  {
   "cell_type": "markdown",
   "metadata": {},
   "source": [
    "Vamos ver como podemos ensinar uma conversa simples como essa para Rasa:"
   ]
  },
  {
   "cell_type": "markdown",
   "metadata": {},
   "source": [
    "```\n",
    "## news path 1\n",
    "* greet\n",
    "  - utter_greet\n",
    "* current_matches\n",
    "  - action_match_news\n",
    "  - utter_did_that_help\n",
    "* affirm or thanks\n",
    "  - utter_gratitude\n",
    "* goodbye\n",
    "  - utter_goodbye\n",
    "```"
   ]
  },
  {
   "cell_type": "markdown",
   "metadata": {},
   "source": [
    "O formato geral é:"
   ]
  },
  {
   "cell_type": "markdown",
   "metadata": {},
   "source": [
    "```\n",
    "## news path 1           <--- nome da história para fins de depuração\n",
    "* greet                  <--- intenção detectada do usuário\n",
    "  - utter_greet          <--- que ação o bot deve executar\n",
    "* current_matches        <--- a seguinte intenção na conversa\n",
    "```"
   ]
  },
  {
   "cell_type": "markdown",
   "metadata": {},
   "source": [
    "Isso é chamado de **caminho da história do usuário**. Forneci algumas histórias no arquivo **data/stories.md** para sua referência. Esses são os **dados de treinamento do Rasa Core**.\n",
    "\n",
    "O modo como funciona é:\n",
    "\n",
    " * Dê alguns exemplos de caminhos de história de amostra que o usuário deve seguir\n",
    " * O Rasa Core os combina aleatoriamente para criar caminhos de usuário mais complexos\n",
    " * Em seguida, constrói um modelo probabilístico a partir disso. Este modelo é usado para prever a próxima ação que Rasa deve executar\n",
    "\n",
    "Confira o arquivo **data/stories.md** na versão completa do projeto para mais exemplos. Enquanto isso, aqui está uma boa visualização dos caminhos básicos da história gerados por Rasa para o nosso chatbot IPL:"
   ]
  },
  {
   "cell_type": "markdown",
   "metadata": {},
   "source": [
    "![image5.png](../images/image5.png)"
   ]
  },
  {
   "cell_type": "markdown",
   "metadata": {},
   "source": [
    "A ilustração acima pode parecer complicada, mas está simplesmente listando várias histórias possíveis de usuários que eu ensinei a Rasa. Aqui estão algumas coisas a serem observadas no gráfico acima:\n",
    "\n",
    "* Exceto pelas caixas INICIAR e FIM, todas as caixas coloridas indicam a intenção do usuário\n",
    "* Todas as caixas brancas são ações que o chatbot executa\n",
    "* As setas indicam o fluxo da conversa\n",
    "* **action_match_news** é onde atingimos o CricAPI para obter informações do IPL\n",
    "\n",
    "Escreva o seguinte no seu arquivo stories.md:"
   ]
  },
  {
   "cell_type": "markdown",
   "metadata": {},
   "source": [
    "```\n",
    "## news path 1\n",
    "* greet\n",
    "  - utter_greet\n",
    "* current_matches\n",
    "  - action_match_news\n",
    "  - utter_did_that_help\n",
    "* affirm or thanks\n",
    "  - utter_gratitude\n",
    "* goodbye\n",
    "  - utter_goodbye\n",
    "\n",
    "## news path 2\n",
    "* current_matches\n",
    "  - action_match_news\n",
    "  - utter_did_that_help\n",
    "* affirm or thanks\n",
    "  - utter_gratitude\n",
    "* goodbye\n",
    "  - utter_goodbye\n",
    "\n",
    "## news path 3\n",
    "* greet\n",
    "  - utter_greet\n",
    "* current_matches\n",
    "  - action_match_news\n",
    "  - utter_did_that_help\n",
    "* deny\n",
    "  - utter_ask_again\n",
    "* current_matches\n",
    "  - action_match_news\n",
    "  - utter_did_that_help\n",
    "* affirm or thanks\n",
    "  - utter_gratitude\n",
    "* goodbye\n",
    "  - utter_goodbye\n",
    "\n",
    "## greet path\n",
    "* greet\n",
    "  - utter_greet\n",
    "\n",
    "## goodbye path\n",
    "* goodbye\n",
    "  - utter_goodbye\n",
    "```"
   ]
  },
  {
   "cell_type": "markdown",
   "metadata": {},
   "source": [
    "Agora, gere um gráfico semelhante para suas histórias usando o seguinte comando:"
   ]
  },
  {
   "cell_type": "markdown",
   "metadata": {},
   "source": [
    "```\n",
    "python -m rasa_core.visualize -d domain.yml -s data/stories.md -o graph.html\n",
    "```"
   ]
  },
  {
   "cell_type": "markdown",
   "metadata": {},
   "source": [
    "Porém, para facilitar, embuti no makefile este comando. Então você pode executá-lo mais facilmente assim:\n",
    "```\n",
    "make graph\n",
    "```"
   ]
  },
  {
   "cell_type": "markdown",
   "metadata": {},
   "source": [
    "**Isso é muito útil ao depurar** o fluxo conversacional do chatbot."
   ]
  },
  {
   "cell_type": "markdown",
   "metadata": {},
   "source": [
    "# Definindo o domínio\n",
    "\n",
    "Agora, abra o arquivo **domain.yml**. Você estará familiarizado com a maioria dos recursos mencionados aqui:"
   ]
  },
  {
   "cell_type": "markdown",
   "metadata": {},
   "source": [
    "![image6.png](../images/image6.png)"
   ]
  },
  {
   "cell_type": "markdown",
   "metadata": {},
   "source": [
    "O domínio é o **mundo do seu chatbot**. Ele contém tudo o que o chatbot deve saber, incluindo:\n",
    "\n",
    "* Todas as ações que é capaz de realizar\n",
    "* As intenções que ele deve entender\n",
    "* O modelo de todas as declarações que ele deve informar ao usuário e muito mais"
   ]
  },
  {
   "cell_type": "markdown",
   "metadata": {},
   "source": [
    "# Definindo diretivas (Policies)\n",
    "\n",
    "O Rasa Core gera os dados de treinamento para a parte conversacional usando as histórias que fornecemos. Também permite definir um conjunto de políticas a serem usadas ao decidir a próxima ação do chatbot. Essas políticas são definidas no arquivo **policies.yml**.\n",
    "\n",
    "Então, abra esse arquivo e copie o seguinte código:"
   ]
  },
  {
   "cell_type": "markdown",
   "metadata": {},
   "source": [
    "```\n",
    "policies:\n",
    "  - name: KerasPolicy\n",
    "    epochs: 100\n",
    "    max_history: 5\n",
    "  - name: FallbackPolicy\n",
    "    fallback_action_name: 'action_default_fallback'\n",
    "  - name: MemoizationPolicy\n",
    "    max_history: 5\n",
    "```"
   ]
  },
  {
   "cell_type": "markdown",
   "metadata": {},
   "source": [
    "Aqui estão algumas coisas a serem observadas sobre as políticas acima (extraídas das políticas do Rasa Core aqui):\n",
    "\n",
    "* **O KerasPolicy** usa uma rede neural implementada no Keras para selecionar a próxima ação. A arquitetura padrão é baseada em um modelo LSTM (Long Short Term Term Memory)\n",
    "* **MemoizationPolicy** memoriza as conversas nos seus dados de treinamento. Ele prevê a próxima ação com confiança 1.0, se essa conversa exata existir nos dados de treinamento, caso contrário, ela prevê 'Nenhuma' com confiança 0.0\n",
    "* **FallbackPolicy** chama uma ação de fallback se o reconhecimento de intenção tiver confiança abaixo de nlu_threshold ou se nenhuma das políticas de diálogo prever uma ação com confiança maior que core_threshold\n",
    "* Um hiperparâmetro importante para as políticas do Rasa Core é o **max_history**. Isso controla quanto histórico de diálogo o modelo examina para decidir qual ação tomar em seguida"
   ]
  },
  {
   "cell_type": "markdown",
   "metadata": {},
   "source": [
    "# Treinando o modelo de conversação\n",
    "\n",
    "Você pode treinar o modelo usando o seguinte comando:\n",
    "```\n",
    "make train-core\n",
    "```"
   ]
  },
  {
   "cell_type": "markdown",
   "metadata": {},
   "source": [
    "Ou, se você estiver no Windows, poderá usar o comando Python completo:\n",
    "```\n",
    "python -m rasa_core.train -d domain.yml -s data/stories.md -o models/current/dialogue -c policies.yml\n",
    "```"
   ]
  },
  {
   "cell_type": "markdown",
   "metadata": {},
   "source": [
    "# Conversando com seu chatbot IPL\n",
    "\n",
    "Antes de prosseguirmos, vamos conversar com nosso chatbot e ver como ele funciona. Abra um novo terminal e digite o seguinte comando:\n",
    "```\n",
    "make cmdline\n",
    "```"
   ]
  },
  {
   "cell_type": "markdown",
   "metadata": {},
   "source": [
    "Uma vez carregado, tente conversar com seu chatbot. Você pode começar dizendo \"Oi\". O vídeo a seguir mostra minha interação com o chatbot:"
   ]
  },
  {
   "cell_type": "markdown",
   "metadata": {},
   "source": [
    "[![cmdline3.png](../videos/cmdline3.png)](https://s3-ap-south-1.amazonaws.com/av-blog-media/wp-content/uploads/2019/04/cmdline3.mp4?_=2)\n",
    "\"Veja este video\" (clique com o botao direito do mouse abrindo nova aba)"
   ]
  },
  {
   "cell_type": "markdown",
   "metadata": {},
   "source": [
    "Recebi uma mensagem de erro ao tentar obter atualizações de IPL:\n",
    "\n",
    "Foi encontrada uma exceção ao executar a ação 'action_match_news'. O bot continuará, mas os eventos de ações serão perdidos. Certifique-se de corrigir a exceção no seu código personalizado.\n",
    "\n",
    "O chatbot entendeu minha intenção de receber notícias sobre o IPL. Então, o que deu errado? É simples - ainda não escrevemos o código de back-end para isso! Então, vamos construir o back-end a seguir."
   ]
  },
  {
   "cell_type": "markdown",
   "metadata": {},
   "source": [
    "# Obtendo dados IPL usando o CricAPI\n",
    "\n",
    "Usaremos o CricAPI para obter notícias relacionadas ao IPL. É gratuito para 100 solicitações por dia, o que (espero) é mais do que suficiente para saciar a paixão louca por críquete que você tem.\n",
    "\n",
    "Você precisa primeiro se inscrever no site para obter acesso à API deles:\n",
    "\n",
    "https://www.cricapi.com/\n",
    "\n",
    "Você poderá ver sua chave de API depois de fazer login:"
   ]
  },
  {
   "cell_type": "markdown",
   "metadata": {},
   "source": [
    "![cricapi.png](../images/cricapi.png)"
   ]
  },
  {
   "cell_type": "markdown",
   "metadata": {},
   "source": [
    "Salve essa chave, pois será realmente importante para o nosso chatbot. Em seguida, abra o arquivo **actions.py** e atualize-o com o seguinte código:"
   ]
  },
  {
   "cell_type": "markdown",
   "metadata": {},
   "source": [
    "## actions.py\n",
    "```\n",
    ". (mantenha o código acima, e acrescente ou substitua o que for necessário)\n",
    ".\n",
    "\n",
    "API_URL = \"https://cricapi.com/api/\"\n",
    "API_KEY = \"<coloque sua chave api aqui>\"\n",
    "\n",
    "class ApiAction(Action):\n",
    "\tdef name(self):\n",
    "\t\treturn \"action_match_news\"\n",
    "\n",
    "\tdef run(self, dispatcher, tracker, domain):\n",
    "\t\tres = requests.get(API_URL + \"matches\" + \"?apikey=\" + API_KEY)\n",
    "\t\tif res.status_code == 200:\n",
    "\t\t\tdata = res.json()[\"matches\"]\n",
    "\t\t\trecent_match = data[0]\n",
    "\t\t\tupcoming_match = data[1]\n",
    "\t\t\tupcoming_match[\"date\"] = datetime.strptime(upcoming_match[\"date\"], \"%Y-%m-%dT%H:%M:%S.%fZ\")\n",
    "\t\t\tnext_date = upcoming_match[\"date\"].strftime(\"%d %B %Y\")\n",
    "\n",
    "\t\t\tout_message = \"Here some IPL quick info:\\n1.The match between {} and {} was recently held and {} won.\".format(recent_match[\"team-1\"], recent_match[\"team-2\"], recent_match[\"toss_winner_team\"])\n",
    "\n",
    "\t\t\tdispatcher.utter_message(out_message)\n",
    "\n",
    "\t\t\tout_message = \"2.The next match is {} vs {} on {}\".format(upcoming_match[\"team-1\"], upcoming_match[\"team-2\"], next_date)\n",
    "\n",
    "\t\t\tdispatcher.utter_message(out_message)\n",
    "\n",
    "\t\treturn []\n",
    "```"
   ]
  },
  {
   "cell_type": "markdown",
   "metadata": {},
   "source": [
    "Preencha o **API_KEY** com o que você recebeu do CricAPI e você deve estar pronto. Agora, você pode tentar novamente falar com seu chatbot. Desta vez, esteja preparado para se surpreender.\n",
    "\n",
    "Abra um novo terminal e inicie seu servidor de ação:\n",
    "\n",
    "```\n",
    "make action-server\n",
    "```\n",
    "\n",
    "Isso ativará o servidor que está sendo executado no arquivo **actions.py** e estará funcionando em segundo plano para nós. Agora, reinicie o chatbot na linha de comando:\n",
    "\n",
    "```\n",
    "make cmdline\n",
    "```\n",
    "\n",
    "E desta vez, ele deve fornecer algumas notícias sobre IPL quando solicitado. Isso não é incrível? Já criamos um chatbot completo sem executar etapas complexas!"
   ]
  },
  {
   "cell_type": "markdown",
   "metadata": {},
   "source": [
    "# Trazendo o Chatbot à vida (Integrando Rasa e Slack)\n",
    "\n",
    "Então, temos o chatbot pronto. É hora de implantá-lo e integrá-lo ao Slack, como prometi no início deste artigo. Felizmente para nós, o Rasa lida com 90% da parte da implantação por conta própria.\n",
    "\n",
    "Nota: Você precisa ter um espaço de trabalho no Slack antes de continuar. Se você não possui um, pode [consultar isto](https://get.slack.help/hc/en-us/articles/206845317-Create-a-Slack-workspace)."
   ]
  },
  {
   "cell_type": "markdown",
   "metadata": {},
   "source": [
    "# Criando um aplicativo Slack\n",
    "\n",
    "Agora que temos um espaço de trabalho para experimentar, precisamos de um aplicativo para anexar seu bot. Crie o aplicativo no link abaixo:\n",
    "\n",
    "https://api.slack.com/apps"
   ]
  },
  {
   "cell_type": "markdown",
   "metadata": {},
   "source": [
    "(1). Clique em \"Criar aplicativo\", atribua um nome ao aplicativo e selecione seu espaço de trabalho:"
   ]
  },
  {
   "cell_type": "markdown",
   "metadata": {},
   "source": [
    "![slack1.png](../images/slack1.png)"
   ]
  },
  {
   "cell_type": "markdown",
   "metadata": {},
   "source": [
    "Isso o redirecionará para o painel do aplicativo. A partir daí, você pode selecionar a opção **\"Bots\"**:"
   ]
  },
  {
   "attachments": {},
   "cell_type": "markdown",
   "metadata": {},
   "source": [
    "![slack2.png](../images/slack2.png)"
   ]
  },
  {
   "cell_type": "markdown",
   "metadata": {},
   "source": [
    "(2). Clique em \"**Adicionar um usuário de bot**\" -> Dê um nome ao seu bot. No meu caso, chamei de \"**iplbot**\". Agora, precisamos adicioná-lo ao nosso espaço de trabalho para que possamos conversar com ele! Volte ao painel do aplicativo acima e role para baixo para encontrar a opção \"**Instalar aplicativo no espaço de trabalho**\":"
   ]
  },
  {
   "attachments": {},
   "cell_type": "markdown",
   "metadata": {},
   "source": [
    "![slack3.png](../images/slack3.png)"
   ]
  },
  {
   "cell_type": "markdown",
   "metadata": {},
   "source": [
    "Depois de fazer isso, o Slack solicitará que você \"**autorize**\" o aplicativo. Vá em frente e aceite a autorização.\n",
    "\n",
    "(3). Antes de podermos conectar qualquer programa externo ao nosso bot do Slack, precisamos ter um “**token de autenticação**” que precisamos fornecer ao tentar conectar-se a ele. Volte para o \"**painel de aplicativos**\" e selecione a opção \"**OAuth e permissões**\":"
   ]
  },
  {
   "attachments": {},
   "cell_type": "markdown",
   "metadata": {},
   "source": [
    "![slack4.png](../images/slack4.png)"
   ]
  },
  {
   "cell_type": "markdown",
   "metadata": {},
   "source": [
    "(4). Isso abrirá as configurações de permissões do aplicativo. Selecione o \"**Token de acesso OAuth de usuário bot**\" e salve-o (ocultei-o por motivos de segurança). Este token é fundamental para se conectar ao nosso chatbot."
   ]
  },
  {
   "attachments": {},
   "cell_type": "markdown",
   "metadata": {},
   "source": [
    "![slack5.png](../images/slack5.png)"
   ]
  },
  {
   "cell_type": "markdown",
   "metadata": {},
   "source": [
    "# Instalando o Ngrok\n",
    "\n",
    "Nosso trabalho ainda não acabou. Precisamos de outra ferramenta útil para implantar nosso chatbot no Slack. Isso é [ngrok](https://ngrok.com/) e você pode usar o seguinte link para fazer o download:\n",
    "\n",
    "https://ngrok.com/download\n",
    "\n",
    "Agora estamos a um passo de implantar nosso próprio chatbot! Tempos emocionantes nos aguardam na próxima seção."
   ]
  },
  {
   "cell_type": "markdown",
   "metadata": {},
   "source": [
    "# Pushing(empurrando) o Chatbot para o Slack\n",
    "\n",
    "Precisamos de apenas **cinco comandos** para fazer isso, pois Rasa cuida de tudo o mais nos bastidores.\n",
    "\n",
    "Abra seu arquivo **slack_credentials.yml** e cole o \"**Token de acesso OAuth do usuário bot**\" no lugar do token Slack:"
   ]
  },
  {
   "attachments": {},
   "cell_type": "markdown",
   "metadata": {},
   "source": [
    "![slack6.png](../images/slack6.png)"
   ]
  },
  {
   "cell_type": "markdown",
   "metadata": {},
   "source": [
    "* Vá para um novo terminal e startar o **action-server**:\n",
    "```\n",
    "make action-server\n",
    "```"
   ]
  },
  {
   "cell_type": "markdown",
   "metadata": {},
   "source": [
    "Você verá que o servidor está sendo executado na **porta 5055**, então vamos usar o *ngrok* nessa porta. Abra outro terminal e digite o seguinte:"
   ]
  },
  {
   "cell_type": "markdown",
   "metadata": {},
   "source": [
    "```\n",
    "ngrok http 5055\n",
    "```"
   ]
  },
  {
   "cell_type": "markdown",
   "metadata": {},
   "source": [
    "Porém, também acrescentei este comando no Makefile. Então basta usar o comando:\n",
    "```\n",
    "make ngrok-slack\n",
    "```"
   ]
  },
  {
   "cell_type": "markdown",
   "metadata": {},
   "source": [
    "Isso fornecerá uma saída como a imagem abaixo:"
   ]
  },
  {
   "attachments": {},
   "cell_type": "markdown",
   "metadata": {},
   "source": [
    "![ngrok1.png](../images/ngrok1.png)"
   ]
  },
  {
   "cell_type": "markdown",
   "metadata": {},
   "source": [
    "O link destacado é o link da Internet conectado à porta 5055 do seu computador. É o que o ngrok faz - permite que os programas locais do seu computador sejam expostos na Internet. De certa forma, este é um atalho para usar um serviço de nuvem para implantar seu aplicativo.\n",
    "\n",
    "* Abra seu arquivo **endpoints.yml** e substitua o \"http://localhost:5055/webhook\" pela URL acima, como este:\n",
    "```\n",
    "your_ngrok_url/webhook  \n",
    "```\n",
    "obs: # não precisa mencionar a porta, está inclusa no ngrok url"
   ]
  },
  {
   "attachments": {},
   "cell_type": "markdown",
   "metadata": {},
   "source": [
    "![endpoints.yml.png](../images/endpoints.yml.png)"
   ]
  },
  {
   "cell_type": "markdown",
   "metadata": {},
   "source": [
    "Faça deploy do chatbot Rasa usando o seguinte comando:\n",
    "```\n",
    "python -m rasa_core.run -d models/current/dialogue -u models/current/nlu --port 5002 --connector slack --credentials slack_credentials.yml --endpoints endpoints.yml\n",
    "```\n",
    "Mas, para faciltar, também acrescentei no Makefile. Então use o comando:\n",
    "```\n",
    "make deploy-rasa-chatbot\n",
    "```"
   ]
  },
  {
   "cell_type": "markdown",
   "metadata": {},
   "source": [
    "Você terá uma resposta com esta:"
   ]
  },
  {
   "attachments": {},
   "cell_type": "markdown",
   "metadata": {},
   "source": [
    "![deploy-rasa-chatbot.png](../images/deploy-rasa-chatbot.png)"
   ]
  },
  {
   "cell_type": "markdown",
   "metadata": {},
   "source": [
    "Observe que o servidor Rasa Core está sendo executado na **porta 5002**.\n",
    "\n",
    "* Agora, implante a porta 5002 na Internet:\n",
    "```\n",
    "ngrok http 5002\n",
    "```\n",
    "* Vá para o painel do aplicativo no Slack, clique em **Assinatura de eventos (Events Subscription)** e, em seguida, no botão \"**Ativar inscrições de evento (Enable Event Subscriptions)**\". Cole a URL ngrok do seu Rasa Core Server neste formato no campo **Solicitar URL (Request URL)**:"
   ]
  },
  {
   "attachments": {},
   "cell_type": "markdown",
   "metadata": {},
   "source": [
    "![request_url.png](../images/request_url.png)"
   ]
  },
  {
   "cell_type": "markdown",
   "metadata": {},
   "source": [
    "No URL acima, substitua a parte ngrok pelo seu URL ngrok:\n",
    "```\n",
    "your_ngrok_url/webhooks/slack/webhook\n",
    "```\n",
    "* Sob **Inscrever-se em Eventos de Bot**, clique no botão **Adicionar Evento de Usuário de Bot**. Ele irá revelar um campo de texto e uma lista de eventos. Você pode inserir termos nesse campo para pesquisar os eventos aos quais você deseja que seu bot responda. Aqui está uma lista de eventos que sugiro adicionar:"
   ]
  },
  {
   "attachments": {},
   "cell_type": "markdown",
   "metadata": {},
   "source": [
    "![subscribe-bot-events.png](../images/subscribe-bot-events.png)"
   ]
  },
  {
   "cell_type": "markdown",
   "metadata": {},
   "source": [
    "Depois de adicionar os eventos, clique no botão Salvar alterações na parte inferior da tela.\n",
    "\n",
    "Agora você pode simplesmente atualizar sua página do Slack e começar a conversar imediatamente com seu bot! Aqui está uma conversa com meu chatbot:\n",
    "\n",
    "[![chat-bot-talks-on-slack.png](../videos/chat-bot-talks-on-slack.png)](https://s3-ap-south-1.amazonaws.com/av-blog-media/wp-content/uploads/2019/04/iplbot21.mp4?_=3)\n",
    "\"Veja este video\" (clique com o botao direito do mouse abrindo nova aba)"
   ]
  },
  {
   "attachments": {},
   "cell_type": "markdown",
   "metadata": {},
   "source": [
    "# Para onde você deve ir daqui?\n",
    "\n",
    "Você encontrará os links abaixo úteis se estiver procurando por desafios semelhantes. Criei um chatbot do tipo Zomato para problemas de **Pesquisa de restaurante** usando os modelos Rasa Core e Rasa NLU. Vou ensinar isso com muito mais detalhes em nosso curso sobre Processamento de linguagem natural.\n",
    "\n",
    "Os links para o curso estão abaixo para sua referência:\n",
    "\n",
    "* [Certified Course: Natural Language Processing (NLP) using Python](https://courses.analyticsvidhya.com/courses/natural-language-processing-nlp/?utm_source=blog&utm_medium=learn-build-chatbot-rasa-nlp-ipl)\n",
    "* [Certified Program: NLP for Beginners](https://courses.analyticsvidhya.com/bundles/nlp-combo?utm_source=blog&utm_medium=learn-build-chatbot-rasa-nlp-ipl)\n",
    "* [The Ultimate AI & ML BlackBelt Program](https://courses.analyticsvidhya.com/bundles/ai-blackbelt-beginner-to-master?utm_source=blog&utm_medium=learn-build-chatbot-rasa-nlp-ipl)\n",
    "\n",
    "# Notas finais\n",
    "\n",
    "Eu adoraria ver diferentes abordagens e técnicas da nossa comunidade. Tente usar diferentes pipelines no Rasa Core, explore mais políticas, ajuste esses modelos, verifique quais outros recursos o CricAPI oferece, etc. Há tantas coisas que você pode tentar! Não se detenha aqui - continue e experimente.\n",
    "\n",
    "Sinta-se à vontade para discutir e fornecer seus comentários na seção de comentários abaixo. O código completo do meu projeto está disponível [aqui](https://github.com/mohdsanadzakirizvi/iplbot).\n",
    "\n",
    "Você também deve verificar estes dois artigos sobre a criação de chatbots:\n",
    "\n",
    "* [A Guide to Building an Intelligent Chatbot for Slack using DialogFlow API](https://www.analyticsvidhya.com/blog/2018/03/how-to-build-an-intelligent-chatbot-for-slack-using-dialogflow-api/?utm_source=blog&utm_medium=learn-build-chatbot-rasa-nlp-ipl)\n",
    "* [Building a FAQ Chatbot in Python, The Future of Information Searching](https://www.analyticsvidhya.com/blog/2018/01/faq-chatbots-the-future-of-information-searching/?utm_source=blog&utm_medium=learn-build-chatbot-rasa-nlp-ipl)\n",
    "\n",
    "Você também pode ler este artigo no APP Android do Analytics Vidhya Adquira no Google Play\n",
    "[![google-play.png](../images/google-play.png)](https://play.google.com/store/apps/details?id=com.analyticsvidhya.android&utm_source=blog_article&utm_campaign=blog&pcampaignid=MKT-Other-global-all-co-prtnr-py-PartBadge-Mar2515-1)\n",
    "\"Acesse aqui\" (clique com o botao direito do mouse abrindo nova aba)"
   ]
  },
  {
   "cell_type": "markdown",
   "metadata": {},
   "source": [
    ">>>> PS: **Este manual foi traduzido e modificado/acrescentado com base [neste documento](https://www.analyticsvidhya.com/blog/2019/04/learn-build-chatbot-rasa-nlp-ipl/), cujo autor é [Mohd Sanad Zaki Rizvi, April 29, 2019](https://www.analyticsvidhya.com/blog/author/mohdsanadzakirizvigmail-com/). Qualquer modificação/acréscimo será em benefício de nossa comunidade Smart - Obrigado aà todos**"
   ]
  }
 ],
 "metadata": {
  "kernelspec": {
   "display_name": "Python 3",
   "language": "python",
   "name": "python3"
  },
  "language_info": {
   "codemirror_mode": {
    "name": "ipython",
    "version": 3
   },
   "file_extension": ".py",
   "mimetype": "text/x-python",
   "name": "python",
   "nbconvert_exporter": "python",
   "pygments_lexer": "ipython3",
   "version": "3.6.9"
  }
 },
 "nbformat": 4,
 "nbformat_minor": 2
}
